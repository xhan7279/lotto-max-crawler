{
 "cells": [
  {
   "cell_type": "code",
   "execution_count": 20,
   "metadata": {},
   "outputs": [],
   "source": [
    "import requests\n",
    "from pyquery import PyQuery as pq\n",
    "import pandas as pd\n",
    "import datetime as dt\n",
    "import time"
   ]
  },
  {
   "cell_type": "code",
   "execution_count": 6,
   "metadata": {},
   "outputs": [],
   "source": [
    "url = \"https://lottery.olg.ca/en-ca/winning-numbers/lotto-max/winning-numbers?startDate=2018-11-22&endDate=2018-11-24\"\n",
    "#r = requests.get(url)\n",
    "r = pq(url = url )"
   ]
  },
  {
   "cell_type": "code",
   "execution_count": 7,
   "metadata": {},
   "outputs": [],
   "source": [
    "t = dt.date(2018, 11, 23)"
   ]
  },
  {
   "cell_type": "code",
   "execution_count": 8,
   "metadata": {},
   "outputs": [
    {
     "data": {
      "text/plain": [
       "'2018-11-22'"
      ]
     },
     "execution_count": 8,
     "metadata": {},
     "output_type": "execute_result"
    }
   ],
   "source": [
    "(t - dt.timedelta(1)).strftime(\"%Y-%m-%d\")"
   ]
  },
  {
   "cell_type": "code",
   "execution_count": 9,
   "metadata": {},
   "outputs": [],
   "source": [
    "def generateURL(t):\n",
    "    s = (t - dt.timedelta(1)).strftime(\"%Y-%m-%d\")\n",
    "    e = (t + dt.timedelta(1)).strftime(\"%Y-%m-%d\")\n",
    "    return \"https://lottery.olg.ca/en-ca/winning-numbers/lotto-max/winning-numbers?startDate=\" + s + \"&endDate=\"+ e\n"
   ]
  },
  {
   "cell_type": "code",
   "execution_count": 10,
   "metadata": {},
   "outputs": [],
   "source": [
    "def process(t):\n",
    "    url = generateURL(t)\n",
    "    r = pq(url = url )\n",
    "    wn, p, twc = parseResult(r)\n",
    "    print(f\"winning number={wn} prize = {p} total winners = {twc}\")\n",
    "    dic = {'date': t.strftime(\"%Y-%m-%d\"), \"wn1\": \"-\".join([str(i) for i in wn]), \n",
    "           \"prize\":p[0], \"7/7\": twc[0], \"6B/7\": twc[1], \"6/7\":twc[2], \"5/7\":twc[3], \"4/7\":twc[4], \"3B/7\":twc[5],\"3/7\":twc[6]}\n",
    "    df = pd.DataFrame(dic, index=['date'])\n",
    "\n",
    "    return df"
   ]
  },
  {
   "cell_type": "code",
   "execution_count": 11,
   "metadata": {},
   "outputs": [],
   "source": [
    "def parseText(src, remove):\n",
    "    for r in remove: \n",
    "        src = src.replace(r,'')\n",
    "    src = src.split(' ')\n",
    "    if '' in src:\n",
    "        src.remove('')\n",
    "    src = [int(i) for i in src]\n",
    "    return src"
   ]
  },
  {
   "cell_type": "code",
   "execution_count": 12,
   "metadata": {},
   "outputs": [],
   "source": [
    "def parseResult(r):\n",
    "    remove = ['+', \"Bonus\",',', '$']\n",
    "    winningNum = parseText(r('.winning-numbers-container li').text(), remove)\n",
    "    prize = parseText(r('#lotto-max-game1collapse .prize-breakdown h3').text(), [',', '$', 'IN CASH WON', '!'])\n",
    "    #winners = r('#lotto-max-game1collapse .game-prize-3col-table tbody tr td.chart-winners-col').text()\n",
    "    #fp_winners = parseText(r('#lotto-max-game1collapse .game-prize-2col-table tbody tr td.chart-winners-col').text(), remove)\n",
    "    winners_count = parseText(r('#lotto-max-game1collapse .game-prize-3col-table tbody tr td.chart-odds-col').text(), remove)\n",
    "    fp_winners_count = parseText(r('#lotto-max-game1collapse .game-prize-2col-table tbody tr td.chart-prize-col').text(), ['FREE PLAY winners','$', ','])\n",
    "    total_winners_count = winners_count + fp_winners_count\n",
    "    return winningNum, prize, total_winners_count"
   ]
  },
  {
   "cell_type": "code",
   "execution_count": 176,
   "metadata": {},
   "outputs": [
    {
     "name": "stdout",
     "output_type": "stream",
     "text": [
      "winning number=[] prize = [] total winners = []\n"
     ]
    },
    {
     "ename": "IndexError",
     "evalue": "list index out of range",
     "output_type": "error",
     "traceback": [
      "\u001b[0;31m---------------------------------------------------------------------------\u001b[0m",
      "\u001b[0;31mIndexError\u001b[0m                                Traceback (most recent call last)",
      "\u001b[0;32m<ipython-input-176-21c1b11f8e76>\u001b[0m in \u001b[0;36m<module>\u001b[0;34m()\u001b[0m\n\u001b[1;32m      2\u001b[0m \u001b[0mdf\u001b[0m \u001b[0;34m=\u001b[0m \u001b[0mpd\u001b[0m\u001b[0;34m.\u001b[0m\u001b[0mDataFrame\u001b[0m\u001b[0;34m(\u001b[0m\u001b[0;34m)\u001b[0m\u001b[0;34m\u001b[0m\u001b[0;34m\u001b[0m\u001b[0m\n\u001b[1;32m      3\u001b[0m \u001b[0;32mwhile\u001b[0m \u001b[0mt\u001b[0m \u001b[0;34m>\u001b[0m \u001b[0mendDate\u001b[0m\u001b[0;34m:\u001b[0m\u001b[0;34m\u001b[0m\u001b[0;34m\u001b[0m\u001b[0m\n\u001b[0;32m----> 4\u001b[0;31m     \u001b[0mdata\u001b[0m \u001b[0;34m=\u001b[0m \u001b[0mprocess\u001b[0m\u001b[0;34m(\u001b[0m\u001b[0mt\u001b[0m\u001b[0;34m)\u001b[0m\u001b[0;34m\u001b[0m\u001b[0;34m\u001b[0m\u001b[0m\n\u001b[0m\u001b[1;32m      5\u001b[0m     \u001b[0mdf\u001b[0m\u001b[0;34m.\u001b[0m\u001b[0mappend\u001b[0m\u001b[0;34m(\u001b[0m\u001b[0mdata\u001b[0m\u001b[0;34m)\u001b[0m\u001b[0;34m\u001b[0m\u001b[0;34m\u001b[0m\u001b[0m\n\u001b[1;32m      6\u001b[0m     \u001b[0mt\u001b[0m \u001b[0;34m=\u001b[0m \u001b[0mt\u001b[0m \u001b[0;34m-\u001b[0m \u001b[0mdt\u001b[0m\u001b[0;34m.\u001b[0m\u001b[0mtimedelta\u001b[0m\u001b[0;34m(\u001b[0m\u001b[0;36m7\u001b[0m\u001b[0;34m)\u001b[0m\u001b[0;34m\u001b[0m\u001b[0;34m\u001b[0m\u001b[0m\n",
      "\u001b[0;32m<ipython-input-175-ffda0f06700c>\u001b[0m in \u001b[0;36mprocess\u001b[0;34m(t)\u001b[0m\n\u001b[1;32m      5\u001b[0m     \u001b[0mprint\u001b[0m\u001b[0;34m(\u001b[0m\u001b[0;34mf\"winning number={wn} prize = {p} total winners = {twc}\"\u001b[0m\u001b[0;34m)\u001b[0m\u001b[0;34m\u001b[0m\u001b[0;34m\u001b[0m\u001b[0m\n\u001b[1;32m      6\u001b[0m     dic = {'date': t.strftime(\"%Y-%m-%d\"), \"wn1\": \"-\".join([str(i) for i in wn]), \n\u001b[0;32m----> 7\u001b[0;31m            \"prize\":p[0], \"7/7\": twc[0], \"6B/7\": twc[1], \"6/7\":twc[2], \"5/7\":twc[3], \"4/7\":twc[4], \"3B/7\":twc[5],\"3/7\":twc[6]}\n\u001b[0m\u001b[1;32m      8\u001b[0m     \u001b[0mdf\u001b[0m \u001b[0;34m=\u001b[0m \u001b[0mpd\u001b[0m\u001b[0;34m.\u001b[0m\u001b[0mDataFrame\u001b[0m\u001b[0;34m(\u001b[0m\u001b[0mdic\u001b[0m\u001b[0;34m,\u001b[0m \u001b[0mindex\u001b[0m\u001b[0;34m=\u001b[0m\u001b[0;34m[\u001b[0m\u001b[0;34m'date'\u001b[0m\u001b[0;34m]\u001b[0m\u001b[0;34m)\u001b[0m\u001b[0;34m\u001b[0m\u001b[0;34m\u001b[0m\u001b[0m\n\u001b[1;32m      9\u001b[0m \u001b[0;34m\u001b[0m\u001b[0m\n",
      "\u001b[0;31mIndexError\u001b[0m: list index out of range"
     ]
    }
   ],
   "source": []
  },
  {
   "cell_type": "code",
   "execution_count": 23,
   "metadata": {},
   "outputs": [],
   "source": [
    "    url = generateURL(t)\n",
    "    #urlopen(url).read().decode('ISO-8859-1')\n",
    "    r = pq(url = url )"
   ]
  },
  {
   "cell_type": "code",
   "execution_count": 24,
   "metadata": {},
   "outputs": [
    {
     "data": {
      "text/plain": [
       "[]"
      ]
     },
     "execution_count": 24,
     "metadata": {},
     "output_type": "execute_result"
    }
   ],
   "source": [
    "r.text()\n",
    "r('.winning-numbers-container')"
   ]
  },
  {
   "cell_type": "code",
   "execution_count": 22,
   "metadata": {},
   "outputs": [
    {
     "name": "stdout",
     "output_type": "stream",
     "text": [
      "winning number=[] prize = [] total winners = []\n",
      "Empty DataFrame\n",
      "Columns: []\n",
      "Index: []\n"
     ]
    }
   ],
   "source": [
    "endDate = dt.date(2009, 9, 19)\n",
    "f = open(\"data.txt\", \"w\")\n",
    "try:\n",
    "    while t > endDate:\n",
    "        data = process(t)\n",
    "        df.to_csv(f, mode='a', header=False)\n",
    "        t = t - dt.timedelta(7)\n",
    "        time.sleep(20)\n",
    "except: \n",
    "    print(df)"
   ]
  },
  {
   "cell_type": "code",
   "execution_count": 4,
   "metadata": {},
   "outputs": [],
   "source": [
    "ua = UserAgent() # From here we generate a random user agent\n",
    "proxies = [] # Will contain proxies [ip, port]\n",
    "\n",
    "# Main function\n",
    "def run_test():\n",
    "  # Retrieve latest proxies\n",
    "  proxies_req = Request('https://www.sslproxies.org/')\n",
    "  proxies_req.add_header('User-Agent', ua.random)\n",
    "  proxies_doc = urlopen(proxies_req).read().decode('utf8')\n",
    "\n",
    "  soup = BeautifulSoup(proxies_doc, 'html.parser')\n",
    "  proxies_table = soup.find(id='proxylisttable')\n",
    "\n",
    "  # Save proxies in the array\n",
    "  for row in proxies_table.tbody.find_all('tr'):\n",
    "    proxies.append({\n",
    "      'ip':   row.find_all('td')[0].string,\n",
    "      'port': row.find_all('td')[1].string\n",
    "    })\n",
    "\n",
    "  # Choose a random proxy\n",
    "  proxy_index = random_proxy()\n",
    "  proxy = proxies[proxy_index]\n",
    "\n",
    "  for n in range(1, 100):\n",
    "    # Every 10 requests, generate a new proxy\n",
    "    if n % 10 == 0:\n",
    "        proxy_index = random_proxy()\n",
    "        proxy = proxies[proxy_index]\n",
    "    \n",
    "    endDate = dt.date(2009, 9, 19)\n",
    "    df = pd.DataFrame()\n",
    "    # Make the call\n",
    "    try:\n",
    "        while t > endDate:\n",
    "            req = Request(generateURL(t))\n",
    "            req.set_proxy(proxy['ip'] + ':' + proxy['port'], 'http')\n",
    "            my_ip = urlopen(req).read().decode('utf8')\n",
    "            data = process(t)\n",
    "            df.append(data)\n",
    "            t = t - dt.timedelta(7)\n",
    "            print('#' + str(n) + ': ' + my_ip)\n",
    "    except: # If error, delete this proxy and find another one\n",
    "      del proxies[proxy_index]\n",
    "      print('Proxy ' + proxy['ip'] + ':' + proxy['port'] + ' deleted.')\n",
    "      proxy_index = random_proxy()\n",
    "      proxy = proxies[proxy_index]\n",
    "\n",
    "# Retrieve a random index proxy (we need the index to delete it if not working)\n",
    "def random_proxy():\n",
    "  return random.randint(0, len(proxies) - 1)"
   ]
  },
  {
   "cell_type": "code",
   "execution_count": null,
   "metadata": {},
   "outputs": [],
   "source": []
  }
 ],
 "metadata": {
  "kernelspec": {
   "display_name": "Python 3",
   "language": "python",
   "name": "python3"
  },
  "language_info": {
   "codemirror_mode": {
    "name": "ipython",
    "version": 3
   },
   "file_extension": ".py",
   "mimetype": "text/x-python",
   "name": "python",
   "nbconvert_exporter": "python",
   "pygments_lexer": "ipython3",
   "version": "3.6.7"
  }
 },
 "nbformat": 4,
 "nbformat_minor": 2
}
